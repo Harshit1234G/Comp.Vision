{
 "cells": [
  {
   "cell_type": "markdown",
   "metadata": {},
   "source": [
    "[Haar Face Detection](https://docs.opencv.org/4.x/d2/d99/tutorial_js_face_detection.html)"
   ]
  },
  {
   "cell_type": "code",
   "execution_count": 1,
   "metadata": {},
   "outputs": [],
   "source": [
    "import cv2"
   ]
  },
  {
   "cell_type": "code",
   "execution_count": 2,
   "metadata": {},
   "outputs": [],
   "source": [
    "img = cv2.imread('1.jpg')\n",
    "gray_img = cv2.cvtColor(img, code= cv2.COLOR_BGR2GRAY)"
   ]
  },
  {
   "cell_type": "code",
   "execution_count": 3,
   "metadata": {},
   "outputs": [],
   "source": [
    "# Loading the required haar-cascade xml classifier file \n",
    "\n",
    "haar_cascade = cv2.CascadeClassifier(cv2.data.haarcascades + 'haarcascade_frontalface_default.xml')"
   ]
  },
  {
   "cell_type": "code",
   "execution_count": 4,
   "metadata": {},
   "outputs": [],
   "source": [
    "assert not haar_cascade.empty()"
   ]
  },
  {
   "cell_type": "code",
   "execution_count": 5,
   "metadata": {},
   "outputs": [
    {
     "name": "stdout",
     "output_type": "stream",
     "text": [
      "Help on built-in function detectMultiScale:\n",
      "\n",
      "detectMultiScale(...) method of cv2.CascadeClassifier instance\n",
      "    detectMultiScale(image[, scaleFactor[, minNeighbors[, flags[, minSize[, maxSize]]]]]) -> objects\n",
      "    .   @brief Detects objects of different sizes in the input image. The detected objects are returned as a list\n",
      "    .       of rectangles.\n",
      "    .\n",
      "    .       @param image Matrix of the type CV_8U containing an image where objects are detected.\n",
      "    .       @param objects Vector of rectangles where each rectangle contains the detected object, the\n",
      "    .       rectangles may be partially outside the original image.\n",
      "    .       @param scaleFactor Parameter specifying how much the image size is reduced at each image scale.\n",
      "    .       @param minNeighbors Parameter specifying how many neighbors each candidate rectangle should have\n",
      "    .       to retain it.\n",
      "    .       @param flags Parameter with the same meaning for an old cascade as in the function\n",
      "    .       cvHaarDetectObjects. It is not used for a new cascade.\n",
      "    .       @param minSize Minimum possible object size. Objects smaller than that are ignored.\n",
      "    .       @param maxSize Maximum possible object size. Objects larger than that are ignored. If `maxSize == minSize` model is evaluated on single scale.\n",
      "\n"
     ]
    }
   ],
   "source": [
    "help(haar_cascade.detectMultiScale)"
   ]
  },
  {
   "cell_type": "code",
   "execution_count": 6,
   "metadata": {},
   "outputs": [],
   "source": [
    "faces_rectangles = haar_cascade.detectMultiScale(\n",
    "    image= gray_img,\n",
    "    scaleFactor= 1.1,\n",
    "    minNeighbors= 5\n",
    ")"
   ]
  },
  {
   "cell_type": "code",
   "execution_count": 7,
   "metadata": {},
   "outputs": [
    {
     "data": {
      "text/plain": [
       "array([[ 740,  424,   64,   64],\n",
       "       [  64,  283,  306,  306],\n",
       "       [ 638,  462,   58,   58],\n",
       "       [1016,  320,   81,   81],\n",
       "       [ 788,  335,  117,  117]])"
      ]
     },
     "execution_count": 7,
     "metadata": {},
     "output_type": "execute_result"
    }
   ],
   "source": [
    "faces_rectangles"
   ]
  },
  {
   "cell_type": "code",
   "execution_count": 8,
   "metadata": {},
   "outputs": [],
   "source": [
    "for (x, y, width, height) in faces_rectangles:\n",
    "    cv2.rectangle(\n",
    "        img= img,\n",
    "        pt1= (x, y),\n",
    "        pt2= (x + width, y + height),\n",
    "        color= (0, 0, 255),\n",
    "        thickness= 2\n",
    "    )"
   ]
  },
  {
   "cell_type": "code",
   "execution_count": 9,
   "metadata": {},
   "outputs": [
    {
     "data": {
      "text/plain": [
       "-1"
      ]
     },
     "execution_count": 9,
     "metadata": {},
     "output_type": "execute_result"
    }
   ],
   "source": [
    "cv2.imshow('detected_faces', img)\n",
    "cv2.waitKey(0)"
   ]
  },
  {
   "cell_type": "markdown",
   "metadata": {},
   "source": [
    "## In real time"
   ]
  },
  {
   "cell_type": "code",
   "execution_count": 10,
   "metadata": {},
   "outputs": [],
   "source": [
    "cap = cv2.VideoCapture(0)\n",
    "\n",
    "\n",
    "while cap.isOpened():\n",
    "    ret, frame = cap.read()\n",
    "\n",
    "    if not ret:\n",
    "        break\n",
    "\n",
    "    gray_frame = cv2.cvtColor(frame, code= cv2.COLOR_BGR2GRAY)\n",
    "\n",
    "    faces_rect = haar_cascade.detectMultiScale(\n",
    "        image= gray_frame,\n",
    "        scaleFactor= 1.1,\n",
    "        minNeighbors= 5\n",
    "    )\n",
    "    for (x, y, w, h) in faces_rect:\n",
    "        cv2.rectangle(\n",
    "            img= frame,\n",
    "            pt1= (x, y),\n",
    "            pt2= (x + w, y + h),\n",
    "            color= (255, 0 , 0),\n",
    "            thickness= 2\n",
    "        )\n",
    "\n",
    "    cv2.imshow('Face Detection', frame)\n",
    "    \n",
    "    if cv2.waitKey(1) & 0xff == ord('q'):\n",
    "        break\n",
    "\n",
    "cap.release()\n",
    "cv2.destroyAllWindows()"
   ]
  },
  {
   "cell_type": "markdown",
   "metadata": {},
   "source": [
    "## DNN Face Detection"
   ]
  },
  {
   "cell_type": "code",
   "execution_count": 22,
   "metadata": {},
   "outputs": [],
   "source": [
    "import numpy as np"
   ]
  },
  {
   "cell_type": "code",
   "execution_count": 74,
   "metadata": {},
   "outputs": [],
   "source": [
    "img = cv2.imread('1.jpg')\n",
    "\n",
    "# we'll use these to determine the width and height of bounding box from percentages\n",
    "height, width = img.shape[:2]    "
   ]
  },
  {
   "cell_type": "code",
   "execution_count": 75,
   "metadata": {},
   "outputs": [],
   "source": [
    "# loading pretrained model\n",
    "face_net = cv2.dnn.readNetFromCaffe(\n",
    "    r'E:\\Python\\Computer Visions\\pretrained_models\\deploy.prototxt',\n",
    "    r'E:\\Python\\Computer Visions\\pretrained_models\\res10_300x300_ssd_iter_140000.caffemodel'\n",
    ")"
   ]
  },
  {
   "cell_type": "markdown",
   "metadata": {},
   "source": [
    "### What Does This Do?\n",
    "- Loads a Deep Learning model for face detection using OpenCV’s DNN module.\n",
    "- This model is based on Single Shot MultiBox Detector (SSD) with a ResNet-10 backbone.\n",
    "- It's trained using Caffe, a deep learning framework.\n",
    "### What Are These Two Files?\n",
    "1. `deploy.prototxt`\n",
    "- Defines the architecture of the neural network (layers, connections, etc.).\n",
    "- Like a blueprint for the model.\n",
    "2. `res10_300x300_ssd_iter_140000.caffemodel`\n",
    "- Contains the pretrained weights (parameters learned during training).\n",
    "- Used to predict faces in images."
   ]
  },
  {
   "cell_type": "code",
   "execution_count": 76,
   "metadata": {},
   "outputs": [],
   "source": [
    "blob = cv2.dnn.blobFromImage(\n",
    "    img, \n",
    "    scalefactor= 1.0,\n",
    "    size= (300, 300),\n",
    "    mean= (104.0, 177.0, 123.0)   # mean values of dataset used to train res10_300x300_ssd_iter_140000\n",
    ")"
   ]
  },
  {
   "cell_type": "code",
   "execution_count": 77,
   "metadata": {},
   "outputs": [],
   "source": [
    "face_net.setInput(blob)\n",
    "detections = face_net.forward()"
   ]
  },
  {
   "cell_type": "code",
   "execution_count": 78,
   "metadata": {},
   "outputs": [
    {
     "data": {
      "text/plain": [
       "(1, 1, 200, 7)"
      ]
     },
     "execution_count": 78,
     "metadata": {},
     "output_type": "execute_result"
    }
   ],
   "source": [
    "detections.shape"
   ]
  },
  {
   "cell_type": "markdown",
   "metadata": {},
   "source": [
    "`200` -> number of detected faces\n",
    "\n",
    "`7` -> each detected face has 7 values:\n",
    "\n",
    "1. Batch ID (always `0` since we process one image at a time)\n",
    "2. Class ID (always `1` because this model only detects faces)\n",
    "3. Confidence Score (how confident the model is)\n",
    "4. Bounding Box Coordinates:\n",
    "    - x_min (Left)\n",
    "    - y_min (Top)\n",
    "    - x_max (Right)\n",
    "    - y_max (Bottom)\n",
    "\n",
    "Example:\n",
    "```\n",
    "[[[[ 0.          1.          0.98       0.23  0.15  0.55  0.75 ]\n",
    "   [ 0.          1.          0.85       0.65  0.20  0.95  0.80 ]]]]\n",
    "```\n",
    "- Face 1\n",
    "    - Confidence: 98%\n",
    "    - Bounding Box: (23%, 15%) → (55%, 75%)\n",
    "- Face 2\n",
    "    - Confidence: 85%\n",
    "    - Bounding Box: (65%, 20%) → (95%, 80%)"
   ]
  },
  {
   "cell_type": "code",
   "execution_count": null,
   "metadata": {},
   "outputs": [],
   "source": [
    "for i in range(detections.shape[2]):\n",
    "    confidence = detections[0, 0, i, 2]\n",
    "\n",
    "    # taking only those faces with more than 20% confidence \n",
    "    if confidence > 0.2:\n",
    "        box = detections[0, 0, i, 3:7] * np.array([width, height, width, height])\n",
    "        (x1, y1, x2, y2) = box.astype(int)\n",
    "\n",
    "        cv2.rectangle(\n",
    "            img= img,\n",
    "            pt1= (x1, y1),\n",
    "            pt2= (x2, y2),\n",
    "            color= (0, 255, 0),\n",
    "            thickness= 2\n",
    "        )\n",
    "\n",
    "        cv2.putText(\n",
    "            img= img,\n",
    "            text= f'Confidence: {confidence:.2%}',\n",
    "            org= (x1, max(y1 - 10, 0)),\n",
    "            fontFace= cv2.FONT_HERSHEY_COMPLEX,\n",
    "            fontScale= 0.5,\n",
    "            color= (0, 255, 0),\n",
    "            thickness= 2\n",
    "        )\n",
    "\n",
    "cv2.imshow('Face Detection', img)\n",
    "cv2.waitKey(0)\n",
    "cv2.destroyAllWindows()"
   ]
  },
  {
   "cell_type": "markdown",
   "metadata": {},
   "source": [
    "## In real time"
   ]
  },
  {
   "cell_type": "code",
   "execution_count": 86,
   "metadata": {},
   "outputs": [],
   "source": [
    "cap = cv2.VideoCapture(0)\n",
    "cap.set(3, 640)    # width\n",
    "cap.set(4, 480)    # height\n",
    "\n",
    "\n",
    "while cap.isOpened():\n",
    "    # reading cap\n",
    "    ret, frame = cap.read()\n",
    "\n",
    "    # if no frame found\n",
    "    if not ret:\n",
    "        break\n",
    "\n",
    "    # getting h, w of frame\n",
    "    height, width = frame.shape[:2]\n",
    "    \n",
    "    # preprocessing for DNN\n",
    "    blob = cv2.dnn.blobFromImage(\n",
    "        frame, \n",
    "        scalefactor= 1.0,\n",
    "        size= (300, 300),\n",
    "        mean= (104.0, 177.0, 123.0)\n",
    "    )\n",
    "\n",
    "    # getting detections\n",
    "    face_net.setInput(blob)\n",
    "    detections = face_net.forward()\n",
    "\n",
    "    # puttingh bounding boxes and confidence\n",
    "    for i in range(detections.shape[2]):\n",
    "        confidence = detections[0, 0, i, 2]\n",
    "\n",
    "        # taking only those faces with more than 70% confidence \n",
    "        if confidence > 0.7:\n",
    "            box = detections[0, 0, i, 3:7] * np.array([width, height, width, height])\n",
    "            (x1, y1, x2, y2) = box.astype(int)\n",
    "\n",
    "            cv2.rectangle(\n",
    "                img= frame,\n",
    "                pt1= (x1, y1),\n",
    "                pt2= (x2, y2),\n",
    "                color= (255, 0, 0),\n",
    "                thickness= 2\n",
    "            )\n",
    "\n",
    "            cv2.putText(\n",
    "                img= frame,\n",
    "                text= f'Confidence: {confidence:.2%}',\n",
    "                org= (x1, max(y1 - 10, 0)),\n",
    "                fontFace= cv2.FONT_HERSHEY_COMPLEX,\n",
    "                fontScale= 0.5,\n",
    "                color= (255, 0, 0),\n",
    "                thickness= 2\n",
    "            )\n",
    "\n",
    "    # displaying\n",
    "    cv2.imshow('Face Detection', frame)\n",
    "\n",
    "    if cv2.waitKey(1) & 0xff == ord('q'):\n",
    "        break\n",
    "\n",
    "cap.release()\n",
    "cv2.destroyAllWindows()"
   ]
  },
  {
   "cell_type": "code",
   "execution_count": null,
   "metadata": {},
   "outputs": [],
   "source": []
  }
 ],
 "metadata": {
  "kernelspec": {
   "display_name": "Python 3",
   "language": "python",
   "name": "python3"
  },
  "language_info": {
   "codemirror_mode": {
    "name": "ipython",
    "version": 3
   },
   "file_extension": ".py",
   "mimetype": "text/x-python",
   "name": "python",
   "nbconvert_exporter": "python",
   "pygments_lexer": "ipython3",
   "version": "3.12.7"
  }
 },
 "nbformat": 4,
 "nbformat_minor": 2
}
