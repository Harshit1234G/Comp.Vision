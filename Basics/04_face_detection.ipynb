{
 "cells": [
  {
   "cell_type": "markdown",
   "metadata": {},
   "source": [
    "[Haar Face Detection](https://docs.opencv.org/4.x/d2/d99/tutorial_js_face_detection.html)"
   ]
  },
  {
   "cell_type": "code",
   "execution_count": 1,
   "metadata": {},
   "outputs": [],
   "source": [
    "import cv2"
   ]
  },
  {
   "cell_type": "code",
   "execution_count": 2,
   "metadata": {},
   "outputs": [],
   "source": [
    "img = cv2.imread('1.jpg')\n",
    "gray_img = cv2.cvtColor(img, code= cv2.COLOR_BGR2GRAY)"
   ]
  },
  {
   "cell_type": "code",
   "execution_count": 3,
   "metadata": {},
   "outputs": [],
   "source": [
    "# Loading the required haar-cascade xml classifier file \n",
    "\n",
    "haar_cascade = cv2.CascadeClassifier(cv2.data.haarcascades + 'haarcascade_frontalface_default.xml')"
   ]
  },
  {
   "cell_type": "code",
   "execution_count": 4,
   "metadata": {},
   "outputs": [],
   "source": [
    "assert not haar_cascade.empty()"
   ]
  },
  {
   "cell_type": "code",
   "execution_count": 5,
   "metadata": {},
   "outputs": [
    {
     "name": "stdout",
     "output_type": "stream",
     "text": [
      "Help on built-in function detectMultiScale:\n",
      "\n",
      "detectMultiScale(...) method of cv2.CascadeClassifier instance\n",
      "    detectMultiScale(image[, scaleFactor[, minNeighbors[, flags[, minSize[, maxSize]]]]]) -> objects\n",
      "    .   @brief Detects objects of different sizes in the input image. The detected objects are returned as a list\n",
      "    .       of rectangles.\n",
      "    .\n",
      "    .       @param image Matrix of the type CV_8U containing an image where objects are detected.\n",
      "    .       @param objects Vector of rectangles where each rectangle contains the detected object, the\n",
      "    .       rectangles may be partially outside the original image.\n",
      "    .       @param scaleFactor Parameter specifying how much the image size is reduced at each image scale.\n",
      "    .       @param minNeighbors Parameter specifying how many neighbors each candidate rectangle should have\n",
      "    .       to retain it.\n",
      "    .       @param flags Parameter with the same meaning for an old cascade as in the function\n",
      "    .       cvHaarDetectObjects. It is not used for a new cascade.\n",
      "    .       @param minSize Minimum possible object size. Objects smaller than that are ignored.\n",
      "    .       @param maxSize Maximum possible object size. Objects larger than that are ignored. If `maxSize == minSize` model is evaluated on single scale.\n",
      "\n"
     ]
    }
   ],
   "source": [
    "help(haar_cascade.detectMultiScale)"
   ]
  },
  {
   "cell_type": "code",
   "execution_count": 6,
   "metadata": {},
   "outputs": [],
   "source": [
    "faces_rectangles = haar_cascade.detectMultiScale(\n",
    "    image= gray_img,\n",
    "    scaleFactor= 1.1,\n",
    "    minNeighbors= 5\n",
    ")"
   ]
  },
  {
   "cell_type": "code",
   "execution_count": 7,
   "metadata": {},
   "outputs": [
    {
     "data": {
      "text/plain": [
       "array([[ 740,  424,   64,   64],\n",
       "       [  64,  283,  306,  306],\n",
       "       [ 638,  462,   58,   58],\n",
       "       [1016,  320,   81,   81],\n",
       "       [ 788,  335,  117,  117]])"
      ]
     },
     "execution_count": 7,
     "metadata": {},
     "output_type": "execute_result"
    }
   ],
   "source": [
    "faces_rectangles"
   ]
  },
  {
   "cell_type": "code",
   "execution_count": 8,
   "metadata": {},
   "outputs": [],
   "source": [
    "for (x, y, width, height) in faces_rectangles:\n",
    "    cv2.rectangle(\n",
    "        img= img,\n",
    "        pt1= (x, y),\n",
    "        pt2= (x + width, y + height),\n",
    "        color= (0, 0, 255),\n",
    "        thickness= 2\n",
    "    )"
   ]
  },
  {
   "cell_type": "code",
   "execution_count": 9,
   "metadata": {},
   "outputs": [
    {
     "data": {
      "text/plain": [
       "-1"
      ]
     },
     "execution_count": 9,
     "metadata": {},
     "output_type": "execute_result"
    }
   ],
   "source": [
    "cv2.imshow('detected_faces', img)\n",
    "cv2.waitKey(0)"
   ]
  },
  {
   "cell_type": "markdown",
   "metadata": {},
   "source": [
    "## In real time"
   ]
  },
  {
   "cell_type": "code",
   "execution_count": 13,
   "metadata": {},
   "outputs": [],
   "source": [
    "cap = cv2.VideoCapture(0)\n",
    "\n",
    "\n",
    "while cap.isOpened():\n",
    "    ret, frame = cap.read()\n",
    "\n",
    "    if not ret:\n",
    "        break\n",
    "\n",
    "    gray_frame = cv2.cvtColor(frame, code= cv2.COLOR_BGR2GRAY)\n",
    "\n",
    "    faces_rect = haar_cascade.detectMultiScale(\n",
    "        image= gray_frame,\n",
    "        scaleFactor= 1.1,\n",
    "        minNeighbors= 5\n",
    "    )\n",
    "    for (x, y, w, h) in faces_rect:\n",
    "        cv2.rectangle(\n",
    "            img= frame,\n",
    "            pt1= (x, y),\n",
    "            pt2= (x + w, y + h),\n",
    "            color= (255, 0 , 0),\n",
    "            thickness= 2\n",
    "        )\n",
    "\n",
    "    cv2.imshow('Face Detection', frame)\n",
    "    \n",
    "    if cv2.waitKey(1) & 0xff == ord('q'):\n",
    "        break\n",
    "\n",
    "cap.release()\n",
    "cv2.destroyAllWindows()"
   ]
  },
  {
   "cell_type": "code",
   "execution_count": null,
   "metadata": {},
   "outputs": [],
   "source": []
  }
 ],
 "metadata": {
  "kernelspec": {
   "display_name": "Python 3",
   "language": "python",
   "name": "python3"
  },
  "language_info": {
   "codemirror_mode": {
    "name": "ipython",
    "version": 3
   },
   "file_extension": ".py",
   "mimetype": "text/x-python",
   "name": "python",
   "nbconvert_exporter": "python",
   "pygments_lexer": "ipython3",
   "version": "3.12.7"
  }
 },
 "nbformat": 4,
 "nbformat_minor": 2
}
