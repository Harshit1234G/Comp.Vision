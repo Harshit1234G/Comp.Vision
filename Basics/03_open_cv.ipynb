{
 "cells": [
  {
   "cell_type": "code",
   "execution_count": 1,
   "metadata": {},
   "outputs": [],
   "source": [
    "import cv2"
   ]
  },
  {
   "cell_type": "markdown",
   "metadata": {},
   "source": [
    "## Introduction"
   ]
  },
  {
   "cell_type": "code",
   "execution_count": 2,
   "metadata": {},
   "outputs": [],
   "source": [
    "img = cv2.imread('1.jpg')"
   ]
  },
  {
   "cell_type": "code",
   "execution_count": 3,
   "metadata": {},
   "outputs": [
    {
     "data": {
      "text/plain": [
       "(800, 1280, 3)"
      ]
     },
     "execution_count": 3,
     "metadata": {},
     "output_type": "execute_result"
    }
   ],
   "source": [
    "img.shape"
   ]
  },
  {
   "cell_type": "code",
   "execution_count": null,
   "metadata": {},
   "outputs": [
    {
     "data": {
      "text/plain": [
       "array([12, 10,  0], dtype=uint8)"
      ]
     },
     "execution_count": 4,
     "metadata": {},
     "output_type": "execute_result"
    }
   ],
   "source": [
    "img[0, 0]     # bgr (rgb) vector of (0, 0) pixel"
   ]
  },
  {
   "cell_type": "code",
   "execution_count": 5,
   "metadata": {},
   "outputs": [
    {
     "data": {
      "text/plain": [
       "-1"
      ]
     },
     "execution_count": 5,
     "metadata": {},
     "output_type": "execute_result"
    }
   ],
   "source": [
    "cv2.imshow('HarryPotter', img)    # displaying image\n",
    "cv2.waitKey(0)                    # displays the image infinitely until any key is pressed"
   ]
  },
  {
   "cell_type": "code",
   "execution_count": 6,
   "metadata": {},
   "outputs": [
    {
     "name": "stdout",
     "output_type": "stream",
     "text": [
      "Help on built-in function waitKey:\n",
      "\n",
      "waitKey(...)\n",
      "    waitKey([, delay]) -> retval\n",
      "    .   @brief Waits for a pressed key.\n",
      "    .\n",
      "    .   The function waitKey waits for a key event infinitely (when \\f$\\texttt{delay}\\leq 0\\f$ ) or for delay\n",
      "    .   milliseconds, when it is positive. Since the OS has a minimum time between switching threads, the\n",
      "    .   function will not wait exactly delay ms, it will wait at least delay ms, depending on what else is\n",
      "    .   running on your computer at that time. It returns the code of the pressed key or -1 if no key was\n",
      "    .   pressed before the specified time had elapsed. To check for a key press but not wait for it, use\n",
      "    .   #pollKey.\n",
      "    .\n",
      "    .   @note The functions #waitKey and #pollKey are the only methods in HighGUI that can fetch and handle\n",
      "    .   GUI events, so one of them needs to be called periodically for normal event processing unless\n",
      "    .   HighGUI is used within an environment that takes care of event processing.\n",
      "    .\n",
      "    .   @note The function only works if there is at least one HighGUI window created and the window is\n",
      "    .   active. If there are several HighGUI windows, any of them can be active.\n",
      "    .\n",
      "    .   @param delay Delay in milliseconds. 0 is the special value that means \"forever\".\n",
      "\n"
     ]
    }
   ],
   "source": [
    "help(cv2.waitKey)"
   ]
  },
  {
   "cell_type": "markdown",
   "metadata": {},
   "source": [
    "## Resizing"
   ]
  },
  {
   "cell_type": "code",
   "execution_count": 7,
   "metadata": {},
   "outputs": [],
   "source": [
    "resized_img = cv2.resize(img, dsize= (500, 500))"
   ]
  },
  {
   "cell_type": "code",
   "execution_count": 8,
   "metadata": {},
   "outputs": [
    {
     "data": {
      "text/plain": [
       "-1"
      ]
     },
     "execution_count": 8,
     "metadata": {},
     "output_type": "execute_result"
    }
   ],
   "source": [
    "cv2.imshow('resized', resized_img)\n",
    "cv2.waitKey(0)"
   ]
  },
  {
   "cell_type": "code",
   "execution_count": 9,
   "metadata": {},
   "outputs": [],
   "source": [
    "h, w = img.shape[:2]"
   ]
  },
  {
   "cell_type": "code",
   "execution_count": 12,
   "metadata": {},
   "outputs": [
    {
     "data": {
      "text/plain": [
       "-1"
      ]
     },
     "execution_count": 12,
     "metadata": {},
     "output_type": "execute_result"
    }
   ],
   "source": [
    "ratio = 500 / w\n",
    "dim = (500, int(h * ratio))\n",
    "\n",
    "resized_img = cv2.resize(img, dim)\n",
    "cv2.imshow('resized', resized_img)\n",
    "cv2.waitKey(0)"
   ]
  },
  {
   "cell_type": "markdown",
   "metadata": {},
   "source": [
    "## putting rectangle"
   ]
  },
  {
   "cell_type": "code",
   "execution_count": 16,
   "metadata": {},
   "outputs": [],
   "source": [
    "output = img.copy()\n",
    "rectangle = cv2.rectangle(\n",
    "    img= output,\n",
    "    pt1= (100, 200),\n",
    "    pt2= (300, 500),\n",
    "    color= (255, 0, 0),\n",
    "    thickness= 5\n",
    ")"
   ]
  },
  {
   "cell_type": "code",
   "execution_count": 17,
   "metadata": {},
   "outputs": [
    {
     "data": {
      "text/plain": [
       "-1"
      ]
     },
     "execution_count": 17,
     "metadata": {},
     "output_type": "execute_result"
    }
   ],
   "source": [
    "cv2.imshow('rectangel', rectangle)\n",
    "cv2.waitKey(0)"
   ]
  },
  {
   "cell_type": "markdown",
   "metadata": {},
   "source": [
    "## putting text"
   ]
  },
  {
   "cell_type": "code",
   "execution_count": 18,
   "metadata": {},
   "outputs": [],
   "source": [
    "text = cv2.putText(\n",
    "    img= output,\n",
    "    text= 'hello',\n",
    "    org= (100, 190),\n",
    "    fontFace= cv2.FONT_HERSHEY_PLAIN,\n",
    "    fontScale= 5,\n",
    "    color= (255, 0, 0),\n",
    "    thickness= 2\n",
    ")"
   ]
  },
  {
   "cell_type": "code",
   "execution_count": 19,
   "metadata": {},
   "outputs": [
    {
     "data": {
      "text/plain": [
       "-1"
      ]
     },
     "execution_count": 19,
     "metadata": {},
     "output_type": "execute_result"
    }
   ],
   "source": [
    "cv2.imshow('text', text)\n",
    "cv2.waitKey(0)"
   ]
  },
  {
   "cell_type": "code",
   "execution_count": null,
   "metadata": {},
   "outputs": [],
   "source": [
    "cv2.destroyAllWindows()   # destroying all windows"
   ]
  },
  {
   "cell_type": "code",
   "execution_count": 21,
   "metadata": {},
   "outputs": [
    {
     "data": {
      "text/plain": [
       "-1"
      ]
     },
     "execution_count": 21,
     "metadata": {},
     "output_type": "execute_result"
    }
   ],
   "source": [
    "grey_img = cv2.imread('1.jpg', cv2.IMREAD_GRAYSCALE)\n",
    "cv2.imshow('grey', grey_img)\n",
    "cv2.waitKey(0)"
   ]
  },
  {
   "cell_type": "markdown",
   "metadata": {},
   "source": [
    "## Saving Images"
   ]
  },
  {
   "cell_type": "code",
   "execution_count": 22,
   "metadata": {},
   "outputs": [
    {
     "data": {
      "text/plain": [
       "True"
      ]
     },
     "execution_count": 22,
     "metadata": {},
     "output_type": "execute_result"
    }
   ],
   "source": [
    "cv2.imwrite('saved_img.jpg', output)"
   ]
  },
  {
   "cell_type": "markdown",
   "metadata": {},
   "source": [
    "## Webcam"
   ]
  },
  {
   "cell_type": "code",
   "execution_count": 27,
   "metadata": {},
   "outputs": [],
   "source": [
    "cap = cv2.VideoCapture(0)    # 0 means default camera\n",
    "\n",
    "# set width, height (optional)\n",
    "cap.set(3, 640)    # 3 means width\n",
    "cap.set(4, 480)    # 4 means height\n",
    "\n",
    "while True:\n",
    "    ret, frame = cap.read()\n",
    "\n",
    "    # ret is boolean which represent if frame is available or not\n",
    "    if not ret:\n",
    "        break\n",
    "\n",
    "    cv2.imshow('Webcam feed', frame)\n",
    "\n",
    "    # press 'q' to exit\n",
    "    if cv2.waitKey(1) & 0xff == ord('q'):    # can also use cv2.waitKey(1) == ord('q') but this version is fine on most systems unless you run into compatibility issues.\n",
    "        break\n",
    "\n",
    "cap.release()\n",
    "cv2.destroyAllWindows()"
   ]
  },
  {
   "cell_type": "markdown",
   "metadata": {},
   "source": [
    "### Explanation of `cv2.waitKey(1) & 0xFF == ord('q')`\n",
    "1. `cv2.waitKey(1)`\n",
    "- Waits for a key press for 1 millisecond.\n",
    "- If a key is pressed, it returns the ASCII code of the key.\n",
    "- If no key is pressed, it returns -1.\n",
    "2. `& 0xFF`\n",
    "- This ensures compatibility across different systems (mainly for 64-bit machines).\n",
    "- It masks the higher bits, keeping only the last 8 bits (which store the key value).\n",
    "3. `ord('q')`\n",
    "- ord('q') gives the ASCII value of 'q' (which is 113).\n",
    "- This is used to check if the 'q' key was pressed.\n",
    "### How It Works\n",
    "- The condition checks if 'q' was pressed during the frame loop.\n",
    "- If 'q' is pressed, cv2.waitKey(1) returns 113, which matches ord('q'), so break is executed, stopping the loop."
   ]
  },
  {
   "cell_type": "markdown",
   "metadata": {},
   "source": [
    "## Conversion"
   ]
  },
  {
   "cell_type": "code",
   "execution_count": 28,
   "metadata": {},
   "outputs": [
    {
     "data": {
      "text/plain": [
       "-1"
      ]
     },
     "execution_count": 28,
     "metadata": {},
     "output_type": "execute_result"
    }
   ],
   "source": [
    "grey = cv2.cvtColor(img, code= cv2.COLOR_BGR2GRAY)\n",
    "cv2.imshow('grey', grey)\n",
    "cv2.waitKey(0)"
   ]
  },
  {
   "cell_type": "code",
   "execution_count": null,
   "metadata": {},
   "outputs": [],
   "source": []
  }
 ],
 "metadata": {
  "kernelspec": {
   "display_name": "Python 3",
   "language": "python",
   "name": "python3"
  },
  "language_info": {
   "codemirror_mode": {
    "name": "ipython",
    "version": 3
   },
   "file_extension": ".py",
   "mimetype": "text/x-python",
   "name": "python",
   "nbconvert_exporter": "python",
   "pygments_lexer": "ipython3",
   "version": "3.12.7"
  }
 },
 "nbformat": 4,
 "nbformat_minor": 2
}
