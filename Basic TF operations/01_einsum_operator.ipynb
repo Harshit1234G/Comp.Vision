{
 "cells": [
  {
   "cell_type": "code",
   "execution_count": 2,
   "metadata": {},
   "outputs": [],
   "source": [
    "import numpy as np\n",
    "import tensorflow as tf"
   ]
  },
  {
   "cell_type": "code",
   "execution_count": 3,
   "metadata": {},
   "outputs": [],
   "source": [
    "A = np.array([\n",
    "    [1, 2, 3],\n",
    "    [4, 5, 6],\n",
    "    [0, -1, -2]\n",
    "])\n",
    "\n",
    "B = np.array([\n",
    "    [0, 0, 1],\n",
    "    [2, 3, 4], \n",
    "    [-1, 0, 2]\n",
    "])"
   ]
  },
  {
   "cell_type": "code",
   "execution_count": 4,
   "metadata": {},
   "outputs": [
    {
     "name": "stdout",
     "output_type": "stream",
     "text": [
      "Matmul:\n",
      "[[ 1  6 15]\n",
      " [ 4 15 36]\n",
      " [ 0 -3 -8]]\n",
      "Einsum:\n",
      "[[ 1  6 15]\n",
      " [ 4 15 36]\n",
      " [ 0 -3 -8]]\n"
     ]
    }
   ],
   "source": [
    "print('Matmul:')\n",
    "print(np.matmul(A, B))\n",
    "print('Einsum:')\n",
    "print(np.einsum('ij,jk -> ik', A, B))"
   ]
  },
  {
   "cell_type": "code",
   "execution_count": 5,
   "metadata": {},
   "outputs": [
    {
     "name": "stdout",
     "output_type": "stream",
     "text": [
      "Normal:\n",
      "[[ 0  0  3]\n",
      " [ 8 15 24]\n",
      " [ 0  0 -4]]\n",
      "Einsum:\n",
      "[[ 0  0  3]\n",
      " [ 8 15 24]\n",
      " [ 0  0 -4]]\n"
     ]
    }
   ],
   "source": [
    "print('Normal:')\n",
    "print(A*B)\n",
    "print('Einsum:')\n",
    "print(np.einsum('ij,ij -> ij', A, B))"
   ]
  },
  {
   "cell_type": "code",
   "execution_count": 6,
   "metadata": {},
   "outputs": [
    {
     "name": "stdout",
     "output_type": "stream",
     "text": [
      "Normal:\n",
      "[[ 1  4  0]\n",
      " [ 2  5 -1]\n",
      " [ 3  6 -2]]\n",
      "Einsum:\n",
      "[[ 1  4  0]\n",
      " [ 2  5 -1]\n",
      " [ 3  6 -2]]\n"
     ]
    }
   ],
   "source": [
    "print('Normal:')\n",
    "print(A.T)\n",
    "print('Einsum:')\n",
    "print(np.einsum('ij -> ji', A))"
   ]
  },
  {
   "cell_type": "code",
   "execution_count": 7,
   "metadata": {},
   "outputs": [
    {
     "data": {
      "text/plain": [
       "array([[ 1,  4,  0],\n",
       "       [ 6, 15, -3],\n",
       "       [15, 36, -8]])"
      ]
     },
     "execution_count": 7,
     "metadata": {},
     "output_type": "execute_result"
    }
   ],
   "source": [
    "np.einsum('ij,jk -> ki', A, B)    # first matmul then transpose "
   ]
  },
  {
   "cell_type": "code",
   "execution_count": 8,
   "metadata": {},
   "outputs": [],
   "source": [
    "A_3d = np.array([\n",
    "    [\n",
    "        [2, 5, 5, 2],\n",
    "        [2, -2, 2, 3],\n",
    "        [1, 5, 3, 0]\n",
    "    ],\n",
    "    [\n",
    "        [1, 3, 1, 22],\n",
    "        [0, 2, 2, 0],\n",
    "        [1, 5, 4, 1]\n",
    "    ]\n",
    "])\n",
    "\n",
    "B_3d = np.array([\n",
    "    [\n",
    "        [2, 5, 5, 2, 0],\n",
    "        [2, -2, 2, 3, 1],\n",
    "        [1, 5, 3, 0, 4],\n",
    "        [-3, -4, 0, 7, 2]\n",
    "    ],\n",
    "    [\n",
    "        [1, 3, 1, 22, 0],\n",
    "        [0, 2, 2, 0, 1],\n",
    "        [1, 5, 4, 1, 4],\n",
    "        [-3, -4, 2, 1, 0]\n",
    "    ]\n",
    "])"
   ]
  },
  {
   "cell_type": "code",
   "execution_count": 9,
   "metadata": {},
   "outputs": [
    {
     "name": "stdout",
     "output_type": "stream",
     "text": [
      "(2, 3, 4) (2, 4, 5)\n"
     ]
    }
   ],
   "source": [
    "print(A_3d.shape, B_3d.shape)"
   ]
  },
  {
   "cell_type": "markdown",
   "metadata": {},
   "source": [
    "(2, 3, 4)x(2, 4, 5) -> (2, 3, 5)"
   ]
  },
  {
   "cell_type": "code",
   "execution_count": 10,
   "metadata": {},
   "outputs": [
    {
     "name": "stdout",
     "output_type": "stream",
     "text": [
      "Normal:\n",
      "[[[ 13  17  35  33  29]\n",
      "  [ -7  12  12  19  12]\n",
      "  [ 15  10  24  17  17]]\n",
      "\n",
      " [[-64 -74  55  45   7]\n",
      "  [  2  14  12   2  10]\n",
      "  [  2  29  29  27  21]]]\n",
      "Einsum:\n",
      "[[[ 13  17  35  33  29]\n",
      "  [ -7  12  12  19  12]\n",
      "  [ 15  10  24  17  17]]\n",
      "\n",
      " [[-64 -74  55  45   7]\n",
      "  [  2  14  12   2  10]\n",
      "  [  2  29  29  27  21]]]\n"
     ]
    }
   ],
   "source": [
    "print('Normal:')\n",
    "print(A_3d @ B_3d)\n",
    "print('Einsum:')\n",
    "print(np.einsum('bij,bjk -> bik', A_3d, B_3d))"
   ]
  },
  {
   "cell_type": "code",
   "execution_count": 11,
   "metadata": {},
   "outputs": [
    {
     "name": "stdout",
     "output_type": "stream",
     "text": [
      "Normal:\n",
      "18\n",
      "Einsum:\n",
      "18\n",
      "70\n"
     ]
    }
   ],
   "source": [
    "print('Normal:')\n",
    "print(np.sum(A))\n",
    "print('Einsum:')\n",
    "print(np.einsum('ij -> ', A))\n",
    "print(np.einsum('bij -> ', A_3d))"
   ]
  },
  {
   "cell_type": "code",
   "execution_count": 12,
   "metadata": {},
   "outputs": [
    {
     "name": "stdout",
     "output_type": "stream",
     "text": [
      "Normal:\n",
      "[5 6 7]\n",
      "Einsum:\n",
      "[5 6 7]\n"
     ]
    }
   ],
   "source": [
    "print('Normal:')\n",
    "print(np.sum(A, axis= 0))\n",
    "print('Einsum:')\n",
    "print(np.einsum('ij -> j', A))"
   ]
  },
  {
   "cell_type": "code",
   "execution_count": 13,
   "metadata": {},
   "outputs": [
    {
     "name": "stdout",
     "output_type": "stream",
     "text": [
      "Normal:\n",
      "[ 6 15 -3]\n",
      "Einsum:\n",
      "[ 6 15 -3]\n"
     ]
    }
   ],
   "source": [
    "print('Normal:')\n",
    "print(np.sum(A, axis= 1))\n",
    "print('Einsum:')\n",
    "print(np.einsum('ij -> i', A))"
   ]
  },
  {
   "cell_type": "code",
   "execution_count": 14,
   "metadata": {},
   "outputs": [],
   "source": [
    "Q = np.random.randn(32, 64, 512)\n",
    "K = np.random.randn(32, 128, 512)"
   ]
  },
  {
   "cell_type": "code",
   "execution_count": 15,
   "metadata": {},
   "outputs": [
    {
     "data": {
      "text/plain": [
       "(32, 64, 128)"
      ]
     },
     "execution_count": 15,
     "metadata": {},
     "output_type": "execute_result"
    }
   ],
   "source": [
    "np.einsum('bij,bkj -> bik', Q, K).shape    # bij x bkj.T"
   ]
  },
  {
   "cell_type": "code",
   "execution_count": 16,
   "metadata": {},
   "outputs": [],
   "source": [
    "A = np.random.randn(2, 4, 4, 2)\n",
    "B = np.random.randn(2, 4, 4, 1)"
   ]
  },
  {
   "cell_type": "code",
   "execution_count": 17,
   "metadata": {},
   "outputs": [
    {
     "data": {
      "text/plain": [
       "(2, 4, 2, 1)"
      ]
     },
     "execution_count": 17,
     "metadata": {},
     "output_type": "execute_result"
    }
   ],
   "source": [
    "np.einsum('bcij,bcik -> bcjk', A, B).shape"
   ]
  },
  {
   "cell_type": "code",
   "execution_count": 18,
   "metadata": {},
   "outputs": [
    {
     "data": {
      "text/plain": [
       "(2, 4, 1, 2)"
      ]
     },
     "execution_count": 18,
     "metadata": {},
     "output_type": "execute_result"
    }
   ],
   "source": [
    "np.einsum('bcij,bcik -> bckj', A, B).shape"
   ]
  },
  {
   "cell_type": "code",
   "execution_count": 19,
   "metadata": {},
   "outputs": [
    {
     "name": "stdout",
     "output_type": "stream",
     "text": [
      "Normal:\n",
      "[[[[-0.72771207 -1.93534818]]\n",
      "\n",
      "  [[-1.318677   -2.02757867]]\n",
      "\n",
      "  [[-0.51570906 -0.16685797]]\n",
      "\n",
      "  [[-1.03833446 -0.54490717]]]\n",
      "\n",
      "\n",
      " [[[-5.19482103  1.5033355 ]]\n",
      "\n",
      "  [[ 1.00128279  2.49137695]]\n",
      "\n",
      "  [[-0.81537162  5.75194177]]\n",
      "\n",
      "  [[-1.29919953 -3.80853147]]]]\n",
      "Einsum:\n",
      "[[[[-0.72771207]\n",
      "   [-1.93534818]]\n",
      "\n",
      "  [[-1.318677  ]\n",
      "   [-2.02757867]]\n",
      "\n",
      "  [[-0.51570906]\n",
      "   [-0.16685797]]\n",
      "\n",
      "  [[-1.03833446]\n",
      "   [-0.54490717]]]\n",
      "\n",
      "\n",
      " [[[-5.19482103]\n",
      "   [ 1.5033355 ]]\n",
      "\n",
      "  [[ 1.00128279]\n",
      "   [ 2.49137695]]\n",
      "\n",
      "  [[-0.81537162]\n",
      "   [ 5.75194177]]\n",
      "\n",
      "  [[-1.29919953]\n",
      "   [-3.80853147]]]]\n"
     ]
    }
   ],
   "source": [
    "print('Normal:')\n",
    "print(np.matmul(np.transpose(B, (0, 1, 3, 2)), A))\n",
    "print('Einsum:')\n",
    "print(np.einsum('bcij,bcik -> bcjk', A, B))"
   ]
  },
  {
   "cell_type": "code",
   "execution_count": 21,
   "metadata": {},
   "outputs": [
    {
     "data": {
      "text/plain": [
       "<tf.Tensor: shape=(), dtype=float64, numpy=-0.870390895468884>"
      ]
     },
     "execution_count": 21,
     "metadata": {},
     "output_type": "execute_result"
    }
   ],
   "source": [
    "tf.einsum('ijkl -> ', A)"
   ]
  },
  {
   "cell_type": "code",
   "execution_count": null,
   "metadata": {},
   "outputs": [],
   "source": []
  }
 ],
 "metadata": {
  "kernelspec": {
   "display_name": "Python 3",
   "language": "python",
   "name": "python3"
  },
  "language_info": {
   "codemirror_mode": {
    "name": "ipython",
    "version": 3
   },
   "file_extension": ".py",
   "mimetype": "text/x-python",
   "name": "python",
   "nbconvert_exporter": "python",
   "pygments_lexer": "ipython3",
   "version": "3.12.7"
  }
 },
 "nbformat": 4,
 "nbformat_minor": 2
}
